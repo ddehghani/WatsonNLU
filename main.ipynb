{
 "cells": [
  {
   "cell_type": "code",
   "execution_count": null,
   "metadata": {},
   "outputs": [],
   "source": [
    "# this is a nb in case you are more comfortable with it\n",
    "\n",
    "#print(news_agency_data)\n",
    "    # try:\n",
    "    #     pass# Invoke a method\n",
    "    # except ApiException as ex:\n",
    "    #     print (\"Method failed with status code \" + str(ex.code) + \": \" + ex.message)\n",
    "\n",
    "\n",
    "    # natural_language_understanding = NaturalLanguageUnderstandingV1(\n",
    "    #     version='2022-04-07',\n",
    "    #     authenticator=IAMAuthenticator(API_KEY))\n",
    "\n",
    "    # natural_language_understanding.set_service_url(URL)\n",
    "\n",
    "\n",
    "    # response = natural_language_understanding.analyze(\n",
    "    #     html=\"<html><head><title>Fruits</title></head><body><h1>Apples and Oranges</h1><p>I love apples! I don't like oranges.</p></body></html>\",\n",
    "    #     features=Features(emotion=EmotionOptions())).get_result()\n",
    "\n",
    "    # print(json.dumps(response, indent=2))"
   ]
  }
 ],
 "metadata": {
  "kernelspec": {
   "display_name": "Python 3.10.8 64-bit",
   "language": "python",
   "name": "python3"
  },
  "language_info": {
   "name": "python",
   "version": "3.10.8"
  },
  "orig_nbformat": 4,
  "vscode": {
   "interpreter": {
    "hash": "b460384b52104c1e5b9cf54bee46a255d22b2bef338f75ac4ad5d48196028d3c"
   }
  }
 },
 "nbformat": 4,
 "nbformat_minor": 2
}
